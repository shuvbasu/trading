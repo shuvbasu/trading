{
 "cells": [
  {
   "cell_type": "code",
   "execution_count": 1,
   "metadata": {},
   "outputs": [
    {
     "name": "stdout",
     "output_type": "stream",
     "text": [
      "Train on 25000 samples, validate on 4761 samples\n",
      "Epoch 1/3\n",
      "25000/25000 [==============================] - 10s 394us/sample - loss: 0.0472 - accuracy: 0.0742 - val_loss: 0.0000e+00 - val_accuracy: 0.0727\n",
      "Epoch 2/3\n",
      "25000/25000 [==============================] - 8s 319us/sample - loss: 0.0000e+00 - accuracy: 0.0743 - val_loss: 0.0000e+00 - val_accuracy: 0.0727\n",
      "Epoch 3/3\n",
      "25000/25000 [==============================] - 8s 320us/sample - loss: 0.0000e+00 - accuracy: 0.0743 - val_loss: 0.0000e+00 - val_accuracy: 0.0727\n"
     ]
    }
   ],
   "source": [
    "# Writing first LSTM model\n",
    "import pandas as pd\n",
    "import numpy as np\n",
    "from datetime import datetime\n",
    "import matplotlib.pyplot as plt\n",
    "import math\n",
    "import sklearn\n",
    "from sklearn.preprocessing import StandardScaler\n",
    "import tensorflow as tf\n",
    "from tensorflow.keras.models import Sequential\n",
    "from tensorflow.keras.layers import Dense,Dropout,LSTM\n",
    " \n",
    "newRegeurusd_df = pd.read_csv('RegEurUsd.csv')\n",
    "newRegeurusd_df.set_index(\"time\")\n",
    "\n",
    "\n",
    "\n",
    "# To isolate the last 5% of the dataset\n",
    "times = sorted(newRegeurusd_df.index.values)\n",
    "last_5pct = times[-int(0.05*len(times))]\n",
    "\n",
    "# Split the Traing & Test data \n",
    "X_train = newRegeurusd_df[['bidPrice','offerPrice','bidQuantity','offerQuantity','vwapPrice','totalXnetQuantity',\n",
    "                           'logratio','netQuantity']][0:25000]\n",
    "y_train = np.diff(newRegeurusd_df['midPrice'][0:25001])\n",
    "\n",
    "X_test = newRegeurusd_df[['bidPrice','offerPrice','bidQuantity','offerQuantity','vwapPrice','totalXnetQuantity',\n",
    "                          'logratio','netQuantity']][25001:len(newRegeurusd_df)-1]\n",
    "y_test = np.diff(newRegeurusd_df['midPrice'][25001:len(newRegeurusd_df)])\n",
    "\n",
    "#Normalize the data\n",
    "scaler = StandardScaler()\n",
    "scaler = scaler.fit(X_train)\n",
    "X_train = scaler.transform(X_train)\n",
    "X_test = scaler.transform(X_test)\n",
    "\n",
    "# No. of samples needed to make next prediction\n",
    "timesteps = 100\n",
    "\n",
    "#X_train = scaler.transform(X_train).reshape(20000,8)\n",
    "#X_test = scaler.transform(X_test).reshape(len(newRegeurusd_df)-20001,8)\n",
    "\n",
    "#LSTMs require a 3 dimensional input. Your input shape should be in the form of (samples, timesteps, features). \n",
    "#Since keras infers the first dimension is samples, you should be inputting (timesteps, features) as your input shape.\n",
    "\n",
    "X_train = X_train.reshape(X_train.shape[0], X_train.shape[1], 1)\n",
    "X_test = X_test.reshape(X_test.shape[0], X_test.shape[1], 1)\n",
    "\n",
    "y_train = y_train.reshape(X_train.shape[0],1)\n",
    "y_test  = y_test.reshape(X_test.shape[0],1)\n",
    "\n",
    "#Now build the LSTM model\n",
    "model = Sequential()\n",
    "\n",
    "#relu = Rectified Linear\n",
    "model.add(LSTM(128,input_shape=(8,1),activation='relu', return_sequences = True))\n",
    "model.add(Dropout(0.2))\n",
    "\n",
    "model.add(LSTM(128,activation='relu'))\n",
    "model.add(Dropout(0.2))\n",
    "\n",
    "#model.add(LSTM(32,input_shape=(8,1),activation='relu'))\n",
    "#model.add(Dropout(0.2))\n",
    "\n",
    "model.add(Dense(10,activation='softmax'))\n",
    "\n",
    "opt = tf.keras.optimizers.Adam(lr = 1e-3,decay = 1e-5)\n",
    "#model.compile(loss='mean_squared_logarithmic_error',optimizer = opt,metrics=['accuracy'])\n",
    "model.compile(loss='sparse_categorical_crossentropy',optimizer = opt,metrics=['accuracy'])\n",
    "\n",
    "#X_train = np.reshape(X_train,1)\n",
    "#X_test = np.reshape(X_test, (X_test.shape[0],  X_test.shape[1]))\n",
    "#batch_size = 100\n",
    "\n",
    "history = model.fit(X_train,y_train,epochs= 3,validation_data = (X_test, y_test))\n"
   ]
  },
  {
   "cell_type": "code",
   "execution_count": 263,
   "metadata": {},
   "outputs": [
    {
     "name": "stdout",
     "output_type": "stream",
     "text": [
      "25000 8\n"
     ]
    }
   ],
   "source": [
    "newRegeurusd_df = pd.read_csv('RegEurUsd.csv')\n",
    "newRegeurusd_df.set_index(\"time\")\n",
    "\n",
    "\n",
    "\n",
    "# To isolate the last 5% of the dataset\n",
    "times = sorted(newRegeurusd_df.index.values)\n",
    "last_5pct = times[-int(0.05*len(times))]\n",
    "\n",
    "# Split the Traing & Test data \n",
    "X_train = newRegeurusd_df[['bidPrice','offerPrice','bidQuantity','offerQuantity','vwapPrice','totalXnetQuantity',\n",
    "                           'logratio','netQuantity']][0:25000]\n",
    "y_train = np.diff(newRegeurusd_df['midPrice'][0:25001])\n",
    "\n",
    "X_test = newRegeurusd_df[['bidPrice','offerPrice','bidQuantity','offerQuantity','vwapPrice','totalXnetQuantity',\n",
    "                          'logratio','netQuantity']][25001:len(newRegeurusd_df)-1]\n",
    "y_test = np.diff(newRegeurusd_df['midPrice'][25001:len(newRegeurusd_df)])\n",
    "\n",
    "#Normalize the data\n",
    "scaler = StandardScaler()\n",
    "scaler = scaler.fit(X_train)\n",
    "X_train = scaler.transform(X_train)\n",
    "X_test = scaler.transform(X_test)\n",
    "print(X_train.shape[0],X_train.shape[1])"
   ]
  },
  {
   "cell_type": "code",
   "execution_count": 205,
   "metadata": {},
   "outputs": [
    {
     "data": {
      "image/png": "[encoded data removed]",
      "text/plain": [
       "<Figure size 432x288 with 1 Axes>"
      ]
     },
     "metadata": {
      "needs_background": "light"
     },
     "output_type": "display_data"
    }
   ],
   "source": [
    "eurusd_prices[0:1].shape\n",
    "mnist = tf.keras.datasets.mnist\n",
    "#(x_train,y_train),(x_test,y_test) = mnist.load_data()\n",
    "y_test\n",
    "plt.plot(history.history['loss'])\n",
    "plt.plot(history.history['val_loss'])\n",
    "plt.title('model train vs validation loss')\n",
    "plt.ylabel('loss')\n",
    "plt.xlabel('epoch')\n",
    "plt.legend(['train', 'validation'], loc='upper right')\n",
    "plt.show()\n"
   ]
  },
  {
   "cell_type": "code",
   "execution_count": 221,
   "metadata": {},
   "outputs": [],
   "source": [
    "eurusd_prices[0:5]\n",
    "#eurusd_prices.shape\n",
    "newRegeurusd_df.head\n",
    "times = sorted(newRegeurusd_df.index.values)\n",
    "len(np.diff(y_train))\n",
    "\n",
    "DAXFutures_df = pd.read_csv(\"C:/Users/Shuv/Documents/All Trading/Market Data/Futures_Data/Barchart2017-19/DAX_Futures_Daily.csv\")\n",
    "DAXFutures_df.head\n",
    "DAXFutures_df.drop(DAXFutures_df.columns[[0, 1, 5]], axis=1, inplace= False)\n",
    "DAXFutures_df.head\n",
    "X_train = DAXFutures_df.drop(DAXFutures_df.columns[[0, 1,6]], axis=1,inplace = False)[0:500]\n",
    "list(DAXFutures_df)\n"
   ]
  },
  {
   "cell_type": "code",
   "execution_count": null,
   "metadata": {},
   "outputs": [],
   "source": []
  },
  {
   "cell_type": "code",
   "execution_count": 249,
   "metadata": {},
   "outputs": [
    {
     "name": "stdout",
     "output_type": "stream",
     "text": [
      "(591, 16)\n",
      "Train on 500 samples, validate on 89 samples\n",
      "Epoch 1/10\n",
      "500/500 [==============================] - 2s 3ms/sample - loss: 86.3534 - accuracy: 0.0040 - val_loss: 66.5102 - val_accuracy: 0.0000e+00\n",
      "Epoch 2/10\n",
      "500/500 [==============================] - 0s 491us/sample - loss: 86.3534 - accuracy: 0.0220 - val_loss: 66.5102 - val_accuracy: 0.0000e+00\n",
      "Epoch 3/10\n",
      "500/500 [==============================] - 0s 473us/sample - loss: 86.3534 - accuracy: 0.1140 - val_loss: 66.5102 - val_accuracy: 0.0899\n",
      "Epoch 4/10\n",
      "500/500 [==============================] - 0s 479us/sample - loss: 86.3534 - accuracy: 0.1800 - val_loss: 66.5102 - val_accuracy: 0.2360\n",
      "Epoch 5/10\n",
      "500/500 [==============================] - 0s 483us/sample - loss: 86.3534 - accuracy: 0.2360 - val_loss: 66.5102 - val_accuracy: 0.2135\n",
      "Epoch 6/10\n",
      "500/500 [==============================] - 0s 473us/sample - loss: 86.3534 - accuracy: 0.2040 - val_loss: 66.5102 - val_accuracy: 0.3483\n",
      "Epoch 7/10\n",
      "500/500 [==============================] - 0s 477us/sample - loss: 86.3534 - accuracy: 0.3780 - val_loss: 66.5102 - val_accuracy: 0.4045\n",
      "Epoch 8/10\n",
      "500/500 [==============================] - 0s 479us/sample - loss: 86.3534 - accuracy: 0.2700 - val_loss: 66.5102 - val_accuracy: 0.1461\n",
      "Epoch 9/10\n",
      "500/500 [==============================] - 0s 481us/sample - loss: 86.3534 - accuracy: 0.1100 - val_loss: 66.5102 - val_accuracy: 0.0112\n",
      "Epoch 10/10\n",
      "500/500 [==============================] - 0s 481us/sample - loss: 86.3534 - accuracy: 0.0840 - val_loss: 66.5102 - val_accuracy: 0.0112\n"
     ]
    }
   ],
   "source": [
    "# DAX LSTM Daily timeframe modelling\n",
    "\n",
    "DAXFutures_df = pd.read_csv(\"C:/Users/Shuv/Documents/All Trading/Market Data/Futures_Data/Barchart2017-19/DAX_Futures_Daily.csv\")\n",
    "DAXFutures_df.set_index(\"Date Time\")\n",
    "\n",
    "#Drop the EMA200 column as it would lose many rows, and also Implied Vol, and then remove all blanks\n",
    "DAXFutures_df.drop(['MA-Exp-200','Implied Volatility'], axis = 1 , inplace = True )\n",
    "DAXFutures_df.dropna(axis=0,how='any',inplace=True)\n",
    "print(DAXFutures_df.shape)\n",
    "\n",
    "X_train = DAXFutures_df.drop(DAXFutures_df.columns[[0, 1, 5, 6]], axis=1,inplace = False)[0:500]\n",
    "y_train = np.diff(DAXFutures_df['Close'][0:501])\n",
    "\n",
    "X_test = DAXFutures_df.drop(DAXFutures_df.columns[[0, 1, 5, 6]], axis=1,inplace = False)[501:len(DAXFutures_df)-1]\n",
    "y_test = np.diff(DAXFutures_df['Close'][501:len(DAXFutures_df)])\n",
    "\n",
    "#Normalize the data\n",
    "scaler = StandardScaler()\n",
    "scaler = scaler.fit(X_train)\n",
    "X_train = scaler.transform(X_train)\n",
    "X_test = scaler.transform(X_test)\n",
    "\n",
    "#X_train = scaler.transform(X_train).reshape(20000,8)\n",
    "#X_test = scaler.transform(X_test).reshape(len(newRegeurusd_df)-20001,8)\n",
    "\n",
    "#LSTMs require a 3 dimensional input. Your input shape should be in the form of (samples, timesteps, features). \n",
    "#Since keras infers the first dimension is samples, you should be inputting (timesteps, features) as your input shape.\n",
    "\n",
    "X_train = X_train.reshape(X_train.shape[0], X_train.shape[1], 1)\n",
    "X_test = X_test.reshape(X_test.shape[0], X_test.shape[1], 1)\n",
    "\n",
    "y_train = y_train.reshape(X_train.shape[0],1)\n",
    "y_test  = y_test.reshape(X_test.shape[0],1)\n",
    "\n",
    "#Now build the LSTM model\n",
    "model = Sequential()\n",
    "\n",
    "#relu = Rectified Linear\n",
    "model.add(LSTM(128,input_shape=(X_train.shape[1],1),activation='relu', return_sequences = True))\n",
    "model.add(Dropout(0.2))\n",
    "\n",
    "model.add(LSTM(128,activation='relu'))\n",
    "model.add(Dropout(0.2))\n",
    "\n",
    "#model.add(LSTM(32,input_shape=(X_train.shape[1],1),activation='relu'))\n",
    "#model.add(Dropout(0.2))\n",
    "\n",
    "model.add(Dense(10,activation='softmax'))\n",
    "\n",
    "opt = tf.keras.optimizers.Adam(lr = 1e-3,decay = 1e-5)\n",
    "#model.compile(loss='mean_squared_logarithmic_error',optimizer = opt,metrics=['accuracy'])\n",
    "model.compile(loss='huber_loss',optimizer = opt,metrics=['accuracy'])\n",
    "\n",
    "#X_train = np.reshape(X_train,1)\n",
    "#X_test = np.reshape(X_test, (X_test.shape[0],  X_test.shape[1]))\n",
    "#batch_size = 100\n",
    "\n",
    "historyDAX = model.fit(X_train,y_train,epochs= 10,validation_data = (X_test, y_test))"
   ]
  },
  {
   "cell_type": "code",
   "execution_count": 252,
   "metadata": {},
   "outputs": [
    {
     "data": {
      "image/png": "[encoded data removed]",
      "text/plain": [
       "<Figure size 432x288 with 1 Axes>"
      ]
     },
     "metadata": {
      "needs_background": "light"
     },
     "output_type": "display_data"
    }
   ],
   "source": [
    "plt.plot(historyDAX.history['loss'])\n",
    "plt.plot(historyDAX.history['val_loss'])\n",
    "plt.title('model train vs validation loss')\n",
    "plt.ylabel('loss')\n",
    "plt.xlabel('epoch')\n",
    "plt.legend(['train', 'validation'], loc='upper right')\n",
    "plt.show()\n"
   ]
  },
  {
   "cell_type": "code",
   "execution_count": null,
   "metadata": {},
   "outputs": [],
   "source": []
  }
 ],
 "metadata": {
  "kernelspec": {
   "display_name": "Python 3",
   "language": "python",
   "name": "python3"
  },
  "language_info": {
   "codemirror_mode": {
    "name": "ipython",
    "version": 3
   },
   "file_extension": ".py",
   "mimetype": "text/x-python",
   "name": "python",
   "nbconvert_exporter": "python",
   "pygments_lexer": "ipython3",
   "version": "3.7.6"
  }
 },
 "nbformat": 4,
 "nbformat_minor": 4
}
